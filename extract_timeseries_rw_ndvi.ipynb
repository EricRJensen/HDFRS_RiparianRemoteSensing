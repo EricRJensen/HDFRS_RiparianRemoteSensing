{
 "cells": [
  {
   "cell_type": "code",
   "execution_count": 3,
   "metadata": {},
   "outputs": [],
   "source": [
    "import ee\n",
    "import geemap\n",
    "\n",
    "ee.Initialize()"
   ]
  },
  {
   "cell_type": "code",
   "execution_count": 25,
   "metadata": {},
   "outputs": [
    {
     "data": {
      "text/html": [
       "\n",
       "            <style>\n",
       "                .geemap-dark {\n",
       "                    --jp-widgets-color: white;\n",
       "                    --jp-widgets-label-color: white;\n",
       "                    --jp-ui-font-color1: white;\n",
       "                    --jp-layout-color2: #454545;\n",
       "                    background-color: #383838;\n",
       "                }\n",
       "\n",
       "                .geemap-dark .jupyter-button {\n",
       "                    --jp-layout-color3: #383838;\n",
       "                }\n",
       "\n",
       "                .geemap-colab {\n",
       "                    background-color: var(--colab-primary-surface-color, white);\n",
       "                }\n",
       "\n",
       "                .geemap-colab .jupyter-button {\n",
       "                    --jp-layout-color3: var(--colab-primary-surface-color, white);\n",
       "                }\n",
       "            </style>\n",
       "            "
      ],
      "text/plain": [
       "<IPython.core.display.HTML object>"
      ]
     },
     "metadata": {},
     "output_type": "display_data"
    }
   ],
   "source": [
    "# Import AIM R&W Polygons \n",
    "rw = ee.FeatureCollection('projects/dri-apps/assets/blm-riparian/aim-rw-footprints-v1')\n",
    "\n",
    "# Import NDVI and add a date and scale by 0.001\n",
    "def add_date_and_scale(img):\n",
    "        date = ee.Date(img.get('system:time_start')).advance(15, 'days').format('YYYYMMdd');\n",
    "        return img.multiply(0.001).set({'Date': ee.String(date), 'system:time_start': img.get('system:time_start')})\n",
    "\n",
    "# Filter dates and apply scaling function\n",
    "ndvi_coll = ee.ImageCollection(\"projects/rap-data-365417/assets/ndvi-composites-v1-conus\")\\\n",
    "        .filterDate('2018-01-01', '2024-12-31')\\\n",
    "        .map(add_date_and_scale)"
   ]
  },
  {
   "cell_type": "code",
   "execution_count": 27,
   "metadata": {},
   "outputs": [
    {
     "data": {
      "text/html": [
       "\n",
       "            <style>\n",
       "                .geemap-dark {\n",
       "                    --jp-widgets-color: white;\n",
       "                    --jp-widgets-label-color: white;\n",
       "                    --jp-ui-font-color1: white;\n",
       "                    --jp-layout-color2: #454545;\n",
       "                    background-color: #383838;\n",
       "                }\n",
       "\n",
       "                .geemap-dark .jupyter-button {\n",
       "                    --jp-layout-color3: #383838;\n",
       "                }\n",
       "\n",
       "                .geemap-colab {\n",
       "                    background-color: var(--colab-primary-surface-color, white);\n",
       "                }\n",
       "\n",
       "                .geemap-colab .jupyter-button {\n",
       "                    --jp-layout-color3: var(--colab-primary-surface-color, white);\n",
       "                }\n",
       "            </style>\n",
       "            "
      ],
      "text/plain": [
       "<IPython.core.display.HTML object>"
      ]
     },
     "metadata": {},
     "output_type": "display_data"
    },
    {
     "data": {
      "application/vnd.jupyter.widget-view+json": {
       "model_id": "8f15354d4585427fae98daf9560a1597",
       "version_major": 2,
       "version_minor": 0
      },
      "text/plain": [
       "Map(center=[41.51825196949538, -119.51349739333641], controls=(WidgetControl(options=['position', 'transparent…"
      ]
     },
     "execution_count": 27,
     "metadata": {},
     "output_type": "execute_result"
    }
   ],
   "source": [
    "# Initialize a geemap object\n",
    "Map = geemap.Map()\n",
    "\n",
    "# Visualize NDVI and AIM R&W plots in the map\n",
    "# Set visualization for gee map object\n",
    "ndvi_mean = ndvi_coll.filterDate('2024-06-01', '2024-08-31').mean()\n",
    "Map.addLayer(ndvi_mean, {'min': 0, 'max': 0.7}, 'NDVI Mean in summer 2024')\n",
    "Map.addLayer(rw, {}, 'AIM R&W Polygons')\n",
    "\n",
    "# Display the map\n",
    "Map.centerObject(rw, 6)\n",
    "Map"
   ]
  },
  {
   "cell_type": "code",
   "execution_count": 30,
   "metadata": {},
   "outputs": [
    {
     "data": {
      "text/html": [
       "\n",
       "            <style>\n",
       "                .geemap-dark {\n",
       "                    --jp-widgets-color: white;\n",
       "                    --jp-widgets-label-color: white;\n",
       "                    --jp-ui-font-color1: white;\n",
       "                    --jp-layout-color2: #454545;\n",
       "                    background-color: #383838;\n",
       "                }\n",
       "\n",
       "                .geemap-dark .jupyter-button {\n",
       "                    --jp-layout-color3: #383838;\n",
       "                }\n",
       "\n",
       "                .geemap-colab {\n",
       "                    background-color: var(--colab-primary-surface-color, white);\n",
       "                }\n",
       "\n",
       "                .geemap-colab .jupyter-button {\n",
       "                    --jp-layout-color3: var(--colab-primary-surface-color, white);\n",
       "                }\n",
       "            </style>\n",
       "            "
      ],
      "text/plain": [
       "<IPython.core.display.HTML object>"
      ]
     },
     "metadata": {},
     "output_type": "display_data"
    }
   ],
   "source": [
    "# Convert NDVI to image to extract timeseries and rename bands by date\n",
    "ndvi_img = ndvi_coll.toBands().rename(ndvi_coll.aggregate_array('Date'))\n",
    "\n",
    "# Extract NDVI timeseries for AIM R&W Polygons\n",
    "ndvi_rr = ndvi_img.reduceRegions(collection = rw, reducer = ee.Reducer.mean(), scale = 30, crs = 'EPSG:4326')\n",
    "\n",
    "# Export data to Google Drive\n",
    "task = ee.batch.Export.table.toDrive(collection = ndvi_rr, description = 'aim_rw_ndvi', fileFormat = 'CSV')\n",
    "task.start()"
   ]
  }
 ],
 "metadata": {
  "kernelspec": {
   "display_name": "Python 3",
   "language": "python",
   "name": "python3"
  },
  "language_info": {
   "codemirror_mode": {
    "name": "ipython",
    "version": 3
   },
   "file_extension": ".py",
   "mimetype": "text/x-python",
   "name": "python",
   "nbconvert_exporter": "python",
   "pygments_lexer": "ipython3",
   "version": "3.11.11"
  }
 },
 "nbformat": 4,
 "nbformat_minor": 2
}
